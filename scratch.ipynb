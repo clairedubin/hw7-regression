{
 "cells": [
  {
   "cell_type": "code",
   "execution_count": 49,
   "id": "13e0bb1b",
   "metadata": {},
   "outputs": [],
   "source": [
    "import numpy as np\n",
    "from regression import (logreg, utils, LogisticRegressor)"
   ]
  },
  {
   "cell_type": "code",
   "execution_count": 27,
   "id": "7f17da62",
   "metadata": {},
   "outputs": [],
   "source": [
    "from sklearn.preprocessing import StandardScaler\n",
    "from sklearn.linear_model import LogisticRegression \n",
    "from sklearn.linear_model import SGDClassifier"
   ]
  },
  {
   "cell_type": "code",
   "execution_count": 40,
   "id": "3d021930",
   "metadata": {},
   "outputs": [
    {
     "data": {
      "text/plain": [
       "0.2817529407974519"
      ]
     },
     "execution_count": 40,
     "metadata": {},
     "output_type": "execute_result"
    }
   ],
   "source": [
    "real_y = [1,1,1,0,]\n",
    "pred_y = [0.9, 0.8, 0.5, 0.1]\n",
    "\n",
    "sklearn.metrics.log_loss(real_y, pred_y, labels=[0, 1])"
   ]
  }
 ],
 "metadata": {
  "kernelspec": {
   "display_name": "Python 3 (ipykernel)",
   "language": "python",
   "name": "python3"
  },
  "language_info": {
   "codemirror_mode": {
    "name": "ipython",
    "version": 3
   },
   "file_extension": ".py",
   "mimetype": "text/x-python",
   "name": "python",
   "nbconvert_exporter": "python",
   "pygments_lexer": "ipython3",
   "version": "3.9.13"
  }
 },
 "nbformat": 4,
 "nbformat_minor": 5
}
